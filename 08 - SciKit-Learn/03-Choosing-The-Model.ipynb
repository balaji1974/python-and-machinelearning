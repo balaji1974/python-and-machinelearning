{
 "cells": [
  {
   "cell_type": "markdown",
   "id": "fdb1984e-8f61-4a04-9445-5356e2ab32da",
   "metadata": {},
   "source": [
    "# Choosing the right model for the problem - Pick a model"
   ]
  },
  {
   "cell_type": "markdown",
   "id": "fd4ba7b5-51fb-4353-8371-d1149e4a4cec",
   "metadata": {},
   "source": [
    "#### Some things to note:\n",
    "\n",
    "* Sklearn refers to machine learning models, algorithms as estimators.\n",
    "* Classification problem - predicting a category (heart disease or not)\n",
    "    * Sometimes you'll see clf (short for classifier) used as a classification estimator\n",
    "* Regression problem - predicting a number (selling price of a car)\n",
    "\n",
    "If you're working on a machine learning problem and looking to use Sklearn and not sure what model you should use,  \n",
    "refer to the sklearn machine learning map: https://scikit-learn.org/stable/tutorial/machine_learning_map/index.html"
   ]
  },
  {
   "cell_type": "code",
   "execution_count": null,
   "id": "ea8ea958-09f5-4fad-89fb-cb7b887941c4",
   "metadata": {},
   "outputs": [],
   "source": []
  }
 ],
 "metadata": {
  "kernelspec": {
   "display_name": "Python [conda env:anaconda3]",
   "language": "python",
   "name": "conda-env-anaconda3-py"
  },
  "language_info": {
   "codemirror_mode": {
    "name": "ipython",
    "version": 3
   },
   "file_extension": ".py",
   "mimetype": "text/x-python",
   "name": "python",
   "nbconvert_exporter": "python",
   "pygments_lexer": "ipython3",
   "version": "3.12.7"
  }
 },
 "nbformat": 4,
 "nbformat_minor": 5
}
